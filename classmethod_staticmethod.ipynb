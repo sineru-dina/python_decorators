{
 "cells": [
  {
   "cell_type": "markdown",
   "metadata": {},
   "source": [
    "# @classmethod"
   ]
  },
  {
   "cell_type": "markdown",
   "metadata": {},
   "source": [
    "Let's creat a `Book` class to calculate the final price of the book after tax."
   ]
  },
  {
   "cell_type": "code",
   "execution_count": 34,
   "metadata": {},
   "outputs": [
    {
     "name": "stdout",
     "output_type": "stream",
     "text": [
      "'To Kill a Mockingbird' by Harper Lee | Price with Tax: $16.79\n",
      "'1984' by George Orwell | Price with Tax: $19.43\n"
     ]
    }
   ],
   "source": [
    "class Book:\n",
    "\n",
    "    num_of_books = 0\n",
    "    tax_rate = 1.05  # Apply a tax rate when calculating price\n",
    "\n",
    "    def __init__(self, title, author, price):\n",
    "        self.title = title\n",
    "        self.author = author\n",
    "        self.price = price\n",
    "\n",
    "        Book.num_of_books += 1\n",
    "\n",
    "    def description(self):\n",
    "        return f\"'{self.title}' by {self.author}\"\n",
    "\n",
    "    def apply_tax(self):\n",
    "        self.price = round(self.price * self.tax_rate, 2)\n",
    "        return self.price\n",
    "\n",
    "def main():\n",
    "    book_1 = Book('To Kill a Mockingbird', 'Harper Lee', 15.99)\n",
    "    book_2 = Book('1984', 'George Orwell', 18.50)\n",
    "\n",
    "    print(book_1.description() + \" | Price with Tax: $\" + str(book_1.apply_tax()))\n",
    "    print(book_2.description() + \" | Price with Tax: $\" + str(book_2.apply_tax()))\n",
    "\n",
    "if __name__ == \"__main__\":\n",
    "    main()\n"
   ]
  },
  {
   "cell_type": "markdown",
   "metadata": {},
   "source": [
    "If the `tax_rate` needs to be updated, we can either change the `tax_rate` variable in the `Book` class, or we can use `@classmethod` decorator. \n",
    "\n",
    "Using a `classmethod(set_tax_rate)` provides better encapsulation and maintains class behavior:\n",
    "* More Readable & Maintainable Code:<br>\n",
    "    * `Book.set_tax_rate(1.10)` clearly expresses intent: We are changing the tax rate for all books.\n",
    "    * Directly modifying `Book.tax_rate = 1.10` is less structured and can be harder to track in large projects.\n",
    "\n",
    "* Ensures Consistency in Subclasses:\n",
    "    * If you have a subclass (e.g., Ebook), calling `Ebook.set_tax_rate(1.10)` ensures only Ebook's tax rate changes, not Book's.\n",
    "    * But if you do `Ebook.tax_rate = 1.08`, it may not behave the same way in all subclass instances.\n",
    "\n",
    "* Prevents Hardcoding Class Names:\n",
    "    * `cls.tax_rate = new_rate` ensures it applies to whichever class calls the method (e.g., `Ebook.set_tax_rate()` will affect Ebook).\n",
    "    * If we do `Book.tax_rate = new_rate`, it always changes the Book class, even if we call it on Ebook."
   ]
  },
  {
   "cell_type": "code",
   "execution_count": 35,
   "metadata": {},
   "outputs": [
    {
     "name": "stdout",
     "output_type": "stream",
     "text": [
      "Before changing tax rate:\n",
      "'To Kill a Mockingbird' by Harper Lee: Price with Tax: $16.79\n",
      "'1984' by George Orwell: Price with Tax: $19.43\n",
      "\n",
      "After changing tax rate:\n",
      "'To Kill a Mockingbird' by Harper Lee: Price with Tax: $17.59\n",
      "'1984' by George Orwell: Price with Tax: $20.35\n"
     ]
    }
   ],
   "source": [
    "class Book:\n",
    "    tax_rate = 1.05  # Class variable\n",
    "\n",
    "    def __init__(self, title, author, price):\n",
    "        self.title = title\n",
    "        self.author = author\n",
    "        self.price = price\n",
    "\n",
    "    def description(self):\n",
    "        return f\"'{self.title}' by {self.author}\"\n",
    "    \n",
    "    def apply_tax(self):\n",
    "        return round(self.price * self.tax_rate, 2)\n",
    "\n",
    "    @classmethod\n",
    "    def set_tax_rate(cls, new_rate):\n",
    "        cls.tax_rate = new_rate  # Modify class variable for all instances\n",
    "\n",
    "book_1 = Book('To Kill a Mockingbird', 'Harper Lee', 15.99)\n",
    "book_2 = Book('1984', 'George Orwell', 18.50)\n",
    "\n",
    "print(f\"Before changing tax rate:\")\n",
    "print(f\"{book_1.description()}: Price with Tax: ${book_1.apply_tax()}\")\n",
    "print(f\"{book_2.description()}: Price with Tax: ${book_2.apply_tax()}\")\n",
    "\n",
    "# Change tax rate for all books\n",
    "Book.set_tax_rate(1.10)\n",
    "\n",
    "print(f\"\\nAfter changing tax rate:\")\n",
    "print(f\"{book_1.description()}: Price with Tax: ${book_1.apply_tax()}\")  # New tax rate applied\n",
    "print(f\"{book_2.description()}: Price with Tax: ${book_2.apply_tax()}\")  # New tax rate applied\n"
   ]
  },
  {
   "cell_type": "markdown",
   "metadata": {},
   "source": [
    "Following example demonstrates how to use the `@classmethod` decorator to create a class method (`from_string`) that instantiates a Book object from a string input. <br>\n",
    "The input string is split into its components (`title`, `author`, and `price`), and the class method returns a new Book instance.\n",
    "\n",
    "Why Use `@classmethod`?\n",
    "\n",
    "The `@classmethod` ensures that the method works with the class itself (not just an instance), providing flexibility when creating instances.<br>\n",
    "It is better than manually using Book directly, as it allows for better organization and maintains consistency with subclasses, if any.\n",
    "\n",
    "This approach simplifies creating instances from strings while keeping code clean and organized."
   ]
  },
  {
   "cell_type": "code",
   "execution_count": 39,
   "metadata": {},
   "outputs": [
    {
     "name": "stdout",
     "output_type": "stream",
     "text": [
      "'Harry Potter' by JK Rowling costs $29.99\n"
     ]
    }
   ],
   "source": [
    "class Book:\n",
    "    tax_rate = 1.05  # Class variable\n",
    "\n",
    "    def __init__(self, title, author, price):\n",
    "        self.title = title\n",
    "        self.author = author\n",
    "        self.price = price\n",
    "\n",
    "    def description(self):\n",
    "        return f\"'{self.title}' by {self.author}\"\n",
    "    \n",
    "    def apply_tax(self):\n",
    "        return round(self.price * self.tax_rate, 2)\n",
    "\n",
    "    @classmethod\n",
    "    def set_tax_rate(cls, new_rate):\n",
    "        cls.tax_rate = new_rate \n",
    "\n",
    "    @classmethod\n",
    "    def from_string(cls, book_str):\n",
    "        title, author, price = book_str.split(\", \")\n",
    "        return cls(title, author, float(price))  # Create an instance using `cls`\n",
    "\n",
    "# Create a book instance from a string\n",
    "book = Book.from_string(\"Harry Potter, JK Rowling, 29.99\")\n",
    "print(f\"{book.description()} costs ${book.price}\")\n"
   ]
  },
  {
   "cell_type": "markdown",
   "metadata": {},
   "source": [
    "# @staticmethod"
   ]
  },
  {
   "cell_type": "markdown",
   "metadata": {},
   "source": [
    "We can use `@staticmethod` in Python when we want to define a method that:\n",
    "* Does not depend on instance-specific data (i.e., `self`).\n",
    "* Does not modify or access class-level data (i.e., `cls`).\n",
    "* Performs an operation that is logically related to the class, but does not require access to instance-specific or class-specific data.\n",
    "\n",
    "Key points for using `@staticmethod`:\n",
    "\n",
    "* A static method is not bound to an instance of the class. It is bound to the class itself.\n",
    "* Static methods do not have access to the instance (`self`) or class (`cls`) variables. They only work with the parameters passed to them and can return a result based on that.\n",
    "\n",
    "When to use a static method:\n",
    "* When the method's logic is related to the class, but does not need to access or modify any instance or class-level data.\n",
    "* When you want to group related functionality inside a class, but the functionality doesn’t need access to the class or instance."
   ]
  },
  {
   "cell_type": "markdown",
   "metadata": {},
   "source": [
    "In the following example, we use the `@staticmethod` decorator to check if a specific date is a weekday or not, to get an idea if the bookshop is open or not. In the `weekday` function, we do not need any `self` data, and can be proceed with a new data (`day`). However, it still has some connection with the `Book` class, so we do not need to move it out of the class. In such cases, we can use `@staticmethod` decorator."
   ]
  },
  {
   "cell_type": "code",
   "execution_count": null,
   "metadata": {},
   "outputs": [
    {
     "name": "stdout",
     "output_type": "stream",
     "text": [
      "Before changing tax rate:\n",
      "'To Kill a Mockingbird' by Harper Lee: Price with Tax: $16.79\n",
      "'1984' by George Orwell: Price with Tax: $19.43\n",
      "\n",
      "After changing tax rate:\n",
      "'To Kill a Mockingbird' by Harper Lee: Price with Tax: $17.59\n",
      "'1984' by George Orwell: Price with Tax: $20.35\n",
      "\n",
      "\n",
      "Is the bookshop open? False\n"
     ]
    }
   ],
   "source": [
    "import datetime\n",
    "\n",
    "class Book:\n",
    "    tax_rate = 1.05  # Class variable\n",
    "\n",
    "    def __init__(self, title, author, price):\n",
    "        self.title = title\n",
    "        self.author = author\n",
    "        self.price = price\n",
    "\n",
    "    def description(self):\n",
    "        return f\"'{self.title}' by {self.author}\"\n",
    "    \n",
    "    def apply_tax(self):\n",
    "        return round(self.price * self.tax_rate, 2)\n",
    "\n",
    "    @classmethod\n",
    "    def set_tax_rate(cls, new_rate):\n",
    "        cls.tax_rate = new_rate\n",
    "\n",
    "    @staticmethod\n",
    "    def weekday(day):\n",
    "        if day.weekday() == 5 or day.weekday() == 6:  # Saturday or Sunday\n",
    "            return False\n",
    "        return True\n",
    "\n",
    "# Example usage:\n",
    "book_1 = Book('To Kill a Mockingbird', 'Harper Lee', 15.99)\n",
    "book_2 = Book('1984', 'George Orwell', 18.50)  # Invalid price\n",
    "\n",
    "print(f\"Before changing tax rate:\")\n",
    "print(f\"{book_1.description()}: Price with Tax: ${book_1.apply_tax()}\")\n",
    "print(f\"{book_2.description()}: Price with Tax: ${book_2.apply_tax()}\")\n",
    "\n",
    "# Change tax rate for all books\n",
    "Book.set_tax_rate(1.10)\n",
    "\n",
    "print(f\"\\nAfter changing tax rate:\")\n",
    "print(f\"{book_1.description()}: Price with Tax: ${book_1.apply_tax()}\")  # New tax rate applied\n",
    "print(f\"{book_2.description()}: Price with Tax: ${book_2.apply_tax()}\")  # New tax rate applied\n",
    "\n",
    "print('\\n')\n",
    "day = datetime.date(2025, 3, 30)\n",
    "\n",
    "print(f\"Is the bookshop open? {Book.weekday(day)}\")  # Static method call\n"
   ]
  },
  {
   "cell_type": "code",
   "execution_count": null,
   "metadata": {},
   "outputs": [],
   "source": []
  }
 ],
 "metadata": {
  "kernelspec": {
   "display_name": ".venv",
   "language": "python",
   "name": "python3"
  },
  "language_info": {
   "codemirror_mode": {
    "name": "ipython",
    "version": 3
   },
   "file_extension": ".py",
   "mimetype": "text/x-python",
   "name": "python",
   "nbconvert_exporter": "python",
   "pygments_lexer": "ipython3",
   "version": "3.11.8"
  }
 },
 "nbformat": 4,
 "nbformat_minor": 2
}
