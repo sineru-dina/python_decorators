{
 "cells": [
  {
   "cell_type": "markdown",
   "metadata": {},
   "source": [
    "# @dataclass"
   ]
  },
  {
   "cell_type": "markdown",
   "metadata": {},
   "source": [
    "Let's check out a simple example of printing out some attributes of a mountain in South Korea."
   ]
  },
  {
   "cell_type": "code",
   "execution_count": 2,
   "metadata": {},
   "outputs": [
    {
     "name": "stdout",
     "output_type": "stream",
     "text": [
      "<__main__.mountain_sk object at 0x0000023EF3BD1350>\n"
     ]
    }
   ],
   "source": [
    "import random\n",
    "import string\n",
    "\n",
    "def generate_id() -> str:\n",
    "    return \"\".join(random.choices(string.ascii_uppercase, k=12))\n",
    "    \n",
    "class mountain_sk:\n",
    "    def __init__(self, m_name: str, height: int):\n",
    "        self.m_name = m_name\n",
    "        self.height = height\n",
    "\n",
    "def main() -> None:\n",
    "    mountain = mountain_sk(m_name=\"hallasan\", height=1950)\n",
    "    print(mountain)\n",
    "\n",
    "if __name__ == \"__main__\":\n",
    "    main()"
   ]
  },
  {
   "cell_type": "markdown",
   "metadata": {},
   "source": [
    "As we can see, printing the attributes would not give us a proper output, as we have not defined the printing criteria in the `mountain_sk` class.\n",
    "\n",
    "We can simply correct it as below."
   ]
  },
  {
   "cell_type": "code",
   "execution_count": null,
   "metadata": {},
   "outputs": [
    {
     "name": "stdout",
     "output_type": "stream",
     "text": [
      "Mountain Name: Hallasan, Height: 1950m\n"
     ]
    }
   ],
   "source": [
    "import random\n",
    "import string\n",
    "\n",
    "def generate_id() -> str:\n",
    "    return \"\".join(random.choices(string.ascii_uppercase, k=12))\n",
    "    \n",
    "class mountain_sk:\n",
    "    def __init__(self, m_name: str, height: int):\n",
    "        self.m_name = m_name\n",
    "        self.height = height\n",
    "    \n",
    "    def __str__(self):\n",
    "        return f\"Mountain Name: {self.m_name}, Height: {self.height}m\"\n",
    "\n",
    "def main() -> None:\n",
    "    mountain = mountain_sk(m_name=\"Hallasan\", height=1950)\n",
    "    print(mountain)\n",
    "\n",
    "if __name__ == \"__main__\":\n",
    "    main()"
   ]
  },
  {
   "cell_type": "markdown",
   "metadata": {},
   "source": [
    "When we define our class like this, if we need to add more variables to the class and print accordingly, we have to change/add the `__init__` and `__str__` functions manually. \n",
    "\n",
    "For ex: Let's say we need to add the location of the mountain, we need to add it into `__init__` function and a `self` variable and give instruction to print it in the `__str__` function."
   ]
  },
  {
   "cell_type": "code",
   "execution_count": 15,
   "metadata": {},
   "outputs": [
    {
     "name": "stdout",
     "output_type": "stream",
     "text": [
      "Mountain Name: Hallasan, Height: 1950m, Location: Jeju Island\n"
     ]
    }
   ],
   "source": [
    "import random\n",
    "import string\n",
    "\n",
    "def generate_id() -> str:\n",
    "    return \"\".join(random.choices(string.ascii_uppercase, k=12))\n",
    "    \n",
    "class mountain_sk:\n",
    "    def __init__(self, m_name: str, height: int, location: str = \"Unknown\"): ##added to include location\n",
    "        self.m_name = m_name\n",
    "        self.height = height\n",
    "        self.location = location    ##added to include location\n",
    "    \n",
    "    def __str__(self):\n",
    "        return f\"Mountain Name: {self.m_name}, Height: {self.height}m, Location: {self.location}\"   ##added to include location\n",
    "\n",
    "def main() -> None:\n",
    "    mountain = mountain_sk(m_name=\"Hallasan\", height=1950, location=\"Jeju Island\")\n",
    "    print(mountain)\n",
    "\n",
    "if __name__ == \"__main__\":\n",
    "    main()"
   ]
  },
  {
   "cell_type": "markdown",
   "metadata": {},
   "source": [
    "However, this method would cost us a lot of time, and get more complex if we have more attributes. \n",
    "\n",
    "Therefore, we can use `@dataclass` decorator in Python and it simplifies the creation of classes that store data.<br>\n",
    "It automatically generates methods like `__init__`, `__repr__`, `__eq__`, and others based on the class attributes.\n",
    "\n",
    "So, we can exclude the `__init__` function, and simple `print` command would give us the keys and values in the class."
   ]
  },
  {
   "cell_type": "code",
   "execution_count": 25,
   "metadata": {},
   "outputs": [
    {
     "name": "stdout",
     "output_type": "stream",
     "text": [
      "mountain_sk(m_name='Hallasan', height=1950, location='Jeju Island', climbed=False)\n"
     ]
    }
   ],
   "source": [
    "import random\n",
    "import string\n",
    "from dataclasses import dataclass\n",
    "\n",
    "def generate_id() -> str:\n",
    "    return \"\".join(random.choices(string.ascii_uppercase, k=12))\n",
    "    \n",
    "@dataclass\n",
    "class mountain_sk:   \n",
    "    m_name: str\n",
    "    height: int\n",
    "    location: str = \"Unknown\"\n",
    "    climbed: bool = False\n",
    "\n",
    "    # def __str__(self):\n",
    "    #     return f\"Mountain Name: {self.m_name}, Height: {self.height}m, Location: {self.location}\"\n",
    "\n",
    "def main() -> None:\n",
    "    mountain = mountain_sk(m_name=\"Hallasan\", height=1950, location=\"Jeju Island\")\n",
    "    print(mountain)\n",
    "\n",
    "if __name__ == \"__main__\":\n",
    "    main()"
   ]
  },
  {
   "cell_type": "markdown",
   "metadata": {},
   "source": [
    "Furthermore, if we need to add a list, we should import `field` class from `dataclasses` library, and use `default_factory=list`.\n",
    "\n",
    "We use `field(default_factory=...)` in Python's dataclass when we want to set a default value for a field that is mutable (like lists or dictionaries).<br>\n",
    "Without default_factory, a mutable default would be shared across all instances of the class, leading to unexpected behavior (like all instances having the same list).<br>\n",
    "By using default_factory, we ensure that each instance gets a new independent object (e.g., a new list) as the default value.\n",
    "\n",
    "In short: `default_factory` prevents all instances from sharing the same mutable default value."
   ]
  },
  {
   "cell_type": "code",
   "execution_count": null,
   "metadata": {},
   "outputs": [
    {
     "name": "stdout",
     "output_type": "stream",
     "text": [
      "mountain_sk(m_name='Hallasan', height=1950, location='Jeju Island', climbed=False, hashtags=['#Jeju', '#Hallasan'])\n"
     ]
    }
   ],
   "source": [
    "import random\n",
    "import string\n",
    "from dataclasses import dataclass, field\n",
    "\n",
    "def generate_id() -> str:\n",
    "    return \"\".join(random.choices(string.ascii_uppercase, k=12))\n",
    "    \n",
    "@dataclass\n",
    "class mountain_sk:   \n",
    "    m_name: str\n",
    "    height: int\n",
    "    location: str = \"Unknown\"\n",
    "    climbed: bool = False\n",
    "    hashtags: list[str] = field(default_factory=list)\n",
    "\n",
    "    # def __str__(self):\n",
    "    #     return f\"Mountain Name: {self.m_name}, Height: {self.height}m, Location: {self.location}\"\n",
    "\n",
    "def main() -> None:\n",
    "    mountain = mountain_sk(m_name=\"Hallasan\", height=1950, location=\"Jeju Island\", hashtags=[\"#Jeju\", \"#Hallasan\"])\n",
    "    print(mountain)\n",
    "\n",
    "if __name__ == \"__main__\":\n",
    "    main()"
   ]
  },
  {
   "cell_type": "markdown",
   "metadata": {},
   "source": [
    "If we want to add a unique id for one mountain, we can follow the same concept, using `generate_id` function. And also, we can pass a custom id from the `main` function."
   ]
  },
  {
   "cell_type": "code",
   "execution_count": 32,
   "metadata": {},
   "outputs": [
    {
     "name": "stdout",
     "output_type": "stream",
     "text": [
      "mountain_sk(m_name='Hallasan', height=1950, location='Jeju Island', climbed=False, hashtags=['#Jeju', '#Hallasan'], id='john_doe')\n"
     ]
    }
   ],
   "source": [
    "import random\n",
    "import string\n",
    "from dataclasses import dataclass, field\n",
    "\n",
    "def generate_id() -> str:\n",
    "    return \"\".join(random.choices(string.ascii_uppercase, k=12))\n",
    "    \n",
    "@dataclass\n",
    "class mountain_sk:   \n",
    "    m_name: str\n",
    "    height: int\n",
    "    location: str = \"Unknown\"\n",
    "    climbed: bool = False\n",
    "    hashtags: list[str] = field(default_factory=list)\n",
    "    id: str = field(default_factory=generate_id)\n",
    "\n",
    "    # def __str__(self):\n",
    "    #     return f\"Mountain Name: {self.m_name}, Height: {self.height}m, Location: {self.location}\"\n",
    "\n",
    "def main() -> None:\n",
    "    mountain = mountain_sk(m_name=\"Hallasan\", height=1950, location=\"Jeju Island\", hashtags=[\"#Jeju\", \"#Hallasan\"], id=\"john_doe\")\n",
    "    print(mountain)\n",
    "\n",
    "if __name__ == \"__main__\":\n",
    "    main()"
   ]
  },
  {
   "cell_type": "markdown",
   "metadata": {},
   "source": [
    "Let's say we do not need the user to define its own id, whereas the code itself should create a unique id.\n",
    "\n",
    "We can add an option to the id as `init=False`. So, the id field is not going to be a part of the initializer."
   ]
  },
  {
   "cell_type": "code",
   "execution_count": 33,
   "metadata": {},
   "outputs": [
    {
     "ename": "TypeError",
     "evalue": "mountain_sk.__init__() got an unexpected keyword argument 'id'",
     "output_type": "error",
     "traceback": [
      "\u001b[31m---------------------------------------------------------------------------\u001b[39m",
      "\u001b[31mTypeError\u001b[39m                                 Traceback (most recent call last)",
      "\u001b[36mCell\u001b[39m\u001b[36m \u001b[39m\u001b[32mIn[33]\u001b[39m\u001b[32m, line 25\u001b[39m\n\u001b[32m     22\u001b[39m     \u001b[38;5;28mprint\u001b[39m(mountain)\n\u001b[32m     24\u001b[39m \u001b[38;5;28;01mif\u001b[39;00m \u001b[34m__name__\u001b[39m == \u001b[33m\"\u001b[39m\u001b[33m__main__\u001b[39m\u001b[33m\"\u001b[39m:\n\u001b[32m---> \u001b[39m\u001b[32m25\u001b[39m     \u001b[43mmain\u001b[49m\u001b[43m(\u001b[49m\u001b[43m)\u001b[49m\n",
      "\u001b[36mCell\u001b[39m\u001b[36m \u001b[39m\u001b[32mIn[33]\u001b[39m\u001b[32m, line 21\u001b[39m, in \u001b[36mmain\u001b[39m\u001b[34m()\u001b[39m\n\u001b[32m     20\u001b[39m \u001b[38;5;28;01mdef\u001b[39;00m\u001b[38;5;250m \u001b[39m\u001b[34mmain\u001b[39m() -> \u001b[38;5;28;01mNone\u001b[39;00m:\n\u001b[32m---> \u001b[39m\u001b[32m21\u001b[39m     mountain = \u001b[43mmountain_sk\u001b[49m\u001b[43m(\u001b[49m\u001b[43mm_name\u001b[49m\u001b[43m=\u001b[49m\u001b[33;43m\"\u001b[39;49m\u001b[33;43mHallasan\u001b[39;49m\u001b[33;43m\"\u001b[39;49m\u001b[43m,\u001b[49m\u001b[43m \u001b[49m\u001b[43mheight\u001b[49m\u001b[43m=\u001b[49m\u001b[32;43m1950\u001b[39;49m\u001b[43m,\u001b[49m\u001b[43m \u001b[49m\u001b[43mlocation\u001b[49m\u001b[43m=\u001b[49m\u001b[33;43m\"\u001b[39;49m\u001b[33;43mJeju Island\u001b[39;49m\u001b[33;43m\"\u001b[39;49m\u001b[43m,\u001b[49m\u001b[43m \u001b[49m\u001b[43mhashtags\u001b[49m\u001b[43m=\u001b[49m\u001b[43m[\u001b[49m\u001b[33;43m\"\u001b[39;49m\u001b[33;43m#Jeju\u001b[39;49m\u001b[33;43m\"\u001b[39;49m\u001b[43m,\u001b[49m\u001b[43m \u001b[49m\u001b[33;43m\"\u001b[39;49m\u001b[33;43m#Hallasan\u001b[39;49m\u001b[33;43m\"\u001b[39;49m\u001b[43m]\u001b[49m\u001b[43m,\u001b[49m\u001b[43m \u001b[49m\u001b[38;5;28;43mid\u001b[39;49m\u001b[43m=\u001b[49m\u001b[33;43m\"\u001b[39;49m\u001b[33;43mjohn_doe\u001b[39;49m\u001b[33;43m\"\u001b[39;49m\u001b[43m)\u001b[49m\n\u001b[32m     22\u001b[39m     \u001b[38;5;28mprint\u001b[39m(mountain)\n",
      "\u001b[31mTypeError\u001b[39m: mountain_sk.__init__() got an unexpected keyword argument 'id'"
     ]
    }
   ],
   "source": [
    "import random\n",
    "import string\n",
    "from dataclasses import dataclass, field\n",
    "\n",
    "def generate_id() -> str:\n",
    "    return \"\".join(random.choices(string.ascii_uppercase, k=12))\n",
    "    \n",
    "@dataclass\n",
    "class mountain_sk:   \n",
    "    m_name: str\n",
    "    height: int\n",
    "    location: str = \"Unknown\"\n",
    "    climbed: bool = False\n",
    "    hashtags: list[str] = field(default_factory=list)\n",
    "    id: str = field(init=False, default_factory=generate_id)\n",
    "\n",
    "    # def __str__(self):\n",
    "    #     return f\"Mountain Name: {self.m_name}, Height: {self.height}m, Location: {self.location}\"\n",
    "\n",
    "def main() -> None:\n",
    "    mountain = mountain_sk(m_name=\"Hallasan\", height=1950, location=\"Jeju Island\", hashtags=[\"#Jeju\", \"#Hallasan\"], id=\"john_doe\")\n",
    "    print(mountain)\n",
    "\n",
    "if __name__ == \"__main__\":\n",
    "    main()"
   ]
  },
  {
   "cell_type": "markdown",
   "metadata": {},
   "source": [
    "If we want to add a `search` string, so that administrator could easily search a specific mountain later, we can add a `__post_init__` function.<br>\n",
    "It should not be a field that an user can define/change, it should be an autogenerated keyword."
   ]
  },
  {
   "cell_type": "code",
   "execution_count": 34,
   "metadata": {},
   "outputs": [
    {
     "name": "stdout",
     "output_type": "stream",
     "text": [
      "mountain_sk(m_name='Hallasan', height=1950, location='Jeju Island', climbed=False, hashtags=['#Jeju', '#Hallasan'], id='FUINUSILCPAK', _search='Hallasan 1950')\n"
     ]
    }
   ],
   "source": [
    "import random\n",
    "import string\n",
    "from dataclasses import dataclass, field\n",
    "\n",
    "def generate_id() -> str:\n",
    "    return \"\".join(random.choices(string.ascii_uppercase, k=12))\n",
    "    \n",
    "@dataclass\n",
    "class mountain_sk:   \n",
    "    m_name: str\n",
    "    height: int\n",
    "    location: str = \"Unknown\"\n",
    "    climbed: bool = False\n",
    "    hashtags: list[str] = field(default_factory=list)\n",
    "    id: str = field(init=False, default_factory=generate_id)\n",
    "    _search: str = field(init=False)\n",
    "\n",
    "    def __post_init__(self):\n",
    "        self._search = f\"{self.m_name} {self.height}\"\n",
    "\n",
    "    # def __str__(self):\n",
    "    #     return f\"Mountain Name: {self.m_name}, Height: {self.height}m, Location: {self.location}\"\n",
    "\n",
    "def main() -> None:\n",
    "    mountain = mountain_sk(m_name=\"Hallasan\", height=1950, location=\"Jeju Island\", hashtags=[\"#Jeju\", \"#Hallasan\"])\n",
    "    print(mountain)\n",
    "\n",
    "if __name__ == \"__main__\":\n",
    "    main()"
   ]
  },
  {
   "cell_type": "markdown",
   "metadata": {},
   "source": [
    "In adition, we can choose whether to print it or not by `repr=False/True`."
   ]
  },
  {
   "cell_type": "code",
   "execution_count": 35,
   "metadata": {},
   "outputs": [
    {
     "name": "stdout",
     "output_type": "stream",
     "text": [
      "mountain_sk(m_name='Hallasan', height=1950, location='Jeju Island', climbed=False, hashtags=['#Jeju', '#Hallasan'], id='DKCORLMJQQZP')\n"
     ]
    }
   ],
   "source": [
    "import random\n",
    "import string\n",
    "from dataclasses import dataclass, field\n",
    "\n",
    "def generate_id() -> str:\n",
    "    return \"\".join(random.choices(string.ascii_uppercase, k=12))\n",
    "    \n",
    "@dataclass\n",
    "class mountain_sk:   \n",
    "    m_name: str\n",
    "    height: int\n",
    "    location: str = \"Unknown\"\n",
    "    climbed: bool = False\n",
    "    hashtags: list[str] = field(default_factory=list)\n",
    "    id: str = field(init=False, default_factory=generate_id)\n",
    "    _search: str = field(init=False, repr=False)\n",
    "\n",
    "    def __post_init__(self):\n",
    "        self._search = f\"{self.m_name} {self.height}\"\n",
    "\n",
    "    # def __str__(self):\n",
    "    #     return f\"Mountain Name: {self.m_name}, Height: {self.height}m, Location: {self.location}\"\n",
    "\n",
    "def main() -> None:\n",
    "    mountain = mountain_sk(m_name=\"Hallasan\", height=1950, location=\"Jeju Island\", hashtags=[\"#Jeju\", \"#Hallasan\"])\n",
    "    print(mountain)\n",
    "\n",
    "if __name__ == \"__main__\":\n",
    "    main()"
   ]
  },
  {
   "cell_type": "markdown",
   "metadata": {},
   "source": [
    "In Python, using `@dataclass(frozen=True)` makes the instances of the data class immutable. This means that once an object is created, you cannot modify its attributes (i.e., the object becomes read-only).\n",
    "\n",
    "Why use frozen=True?\n",
    "Immutability: It ensures that once the object is created, its state cannot be changed, which can be useful in cases where you want to ensure the integrity of the object's data.\n",
    "\n",
    "Hashable: If a class is frozen, it can be used as a key in a dictionary or in sets because it becomes hashable. This is because immutable objects have a stable hash value."
   ]
  },
  {
   "cell_type": "code",
   "execution_count": 39,
   "metadata": {},
   "outputs": [
    {
     "ename": "FrozenInstanceError",
     "evalue": "cannot assign to field '_search'",
     "output_type": "error",
     "traceback": [
      "\u001b[31m---------------------------------------------------------------------------\u001b[39m",
      "\u001b[31mFrozenInstanceError\u001b[39m                       Traceback (most recent call last)",
      "\u001b[36mCell\u001b[39m\u001b[36m \u001b[39m\u001b[32mIn[39]\u001b[39m\u001b[32m, line 30\u001b[39m\n\u001b[32m     27\u001b[39m     \u001b[38;5;28mprint\u001b[39m(mountain)\n\u001b[32m     29\u001b[39m \u001b[38;5;28;01mif\u001b[39;00m \u001b[34m__name__\u001b[39m == \u001b[33m\"\u001b[39m\u001b[33m__main__\u001b[39m\u001b[33m\"\u001b[39m:\n\u001b[32m---> \u001b[39m\u001b[32m30\u001b[39m     \u001b[43mmain\u001b[49m\u001b[43m(\u001b[49m\u001b[43m)\u001b[49m\n",
      "\u001b[36mCell\u001b[39m\u001b[36m \u001b[39m\u001b[32mIn[39]\u001b[39m\u001b[32m, line 25\u001b[39m, in \u001b[36mmain\u001b[39m\u001b[34m()\u001b[39m\n\u001b[32m     24\u001b[39m \u001b[38;5;28;01mdef\u001b[39;00m\u001b[38;5;250m \u001b[39m\u001b[34mmain\u001b[39m() -> \u001b[38;5;28;01mNone\u001b[39;00m:\n\u001b[32m---> \u001b[39m\u001b[32m25\u001b[39m     mountain = \u001b[43mmountain_sk\u001b[49m\u001b[43m(\u001b[49m\u001b[43mm_name\u001b[49m\u001b[43m=\u001b[49m\u001b[33;43m\"\u001b[39;49m\u001b[33;43mHallasan\u001b[39;49m\u001b[33;43m\"\u001b[39;49m\u001b[43m,\u001b[49m\u001b[43m \u001b[49m\u001b[43mheight\u001b[49m\u001b[43m=\u001b[49m\u001b[32;43m1950\u001b[39;49m\u001b[43m,\u001b[49m\u001b[43m \u001b[49m\u001b[43mlocation\u001b[49m\u001b[43m=\u001b[49m\u001b[33;43m\"\u001b[39;49m\u001b[33;43mJeju Island\u001b[39;49m\u001b[33;43m\"\u001b[39;49m\u001b[43m,\u001b[49m\u001b[43m \u001b[49m\u001b[43mhashtags\u001b[49m\u001b[43m=\u001b[49m\u001b[43m[\u001b[49m\u001b[33;43m\"\u001b[39;49m\u001b[33;43m#Jeju\u001b[39;49m\u001b[33;43m\"\u001b[39;49m\u001b[43m,\u001b[49m\u001b[43m \u001b[49m\u001b[33;43m\"\u001b[39;49m\u001b[33;43m#Hallasan\u001b[39;49m\u001b[33;43m\"\u001b[39;49m\u001b[43m]\u001b[49m\u001b[43m)\u001b[49m\n\u001b[32m     26\u001b[39m     mountain_sk.m_name = \u001b[33m\"\u001b[39m\u001b[33mSeoraksan\u001b[39m\u001b[33m\"\u001b[39m\n\u001b[32m     27\u001b[39m     \u001b[38;5;28mprint\u001b[39m(mountain)\n",
      "\u001b[36mFile \u001b[39m\u001b[32m<string>:9\u001b[39m, in \u001b[36m__init__\u001b[39m\u001b[34m(self, m_name, height, location, climbed, hashtags)\u001b[39m\n",
      "\u001b[36mCell\u001b[39m\u001b[36m \u001b[39m\u001b[32mIn[39]\u001b[39m\u001b[32m, line 19\u001b[39m, in \u001b[36mmountain_sk.__post_init__\u001b[39m\u001b[34m(self)\u001b[39m\n\u001b[32m     18\u001b[39m \u001b[38;5;28;01mdef\u001b[39;00m\u001b[38;5;250m \u001b[39m\u001b[34m__post_init__\u001b[39m(\u001b[38;5;28mself\u001b[39m):\n\u001b[32m---> \u001b[39m\u001b[32m19\u001b[39m     \u001b[38;5;28;43mself\u001b[39;49m\u001b[43m.\u001b[49m\u001b[43m_search\u001b[49m = \u001b[33mf\u001b[39m\u001b[33m\"\u001b[39m\u001b[38;5;132;01m{\u001b[39;00m\u001b[38;5;28mself\u001b[39m.m_name\u001b[38;5;132;01m}\u001b[39;00m\u001b[33m \u001b[39m\u001b[38;5;132;01m{\u001b[39;00m\u001b[38;5;28mself\u001b[39m.height\u001b[38;5;132;01m}\u001b[39;00m\u001b[33m\"\u001b[39m\n",
      "\u001b[36mFile \u001b[39m\u001b[32m<string>:4\u001b[39m, in \u001b[36m__setattr__\u001b[39m\u001b[34m(self, name, value)\u001b[39m\n",
      "\u001b[31mFrozenInstanceError\u001b[39m: cannot assign to field '_search'"
     ]
    }
   ],
   "source": [
    "import random\n",
    "import string\n",
    "from dataclasses import dataclass, field\n",
    "\n",
    "def generate_id() -> str:\n",
    "    return \"\".join(random.choices(string.ascii_uppercase, k=12))\n",
    "    \n",
    "@dataclass(frozen=True)  # Making the dataclass immutable\n",
    "class mountain_sk:   \n",
    "    m_name: str\n",
    "    height: int\n",
    "    location: str = \"Unknown\"\n",
    "    climbed: bool = False\n",
    "    hashtags: list[str] = field(default_factory=list)\n",
    "    id: str = field(init=False, default_factory=generate_id)\n",
    "    _search: str = field(init=False, repr=False)\n",
    "\n",
    "    def __post_init__(self):\n",
    "        self._search = f\"{self.m_name} {self.height}\"\n",
    "\n",
    "    # def __str__(self):\n",
    "    #     return f\"Mountain Name: {self.m_name}, Height: {self.height}m, Location: {self.location}\"\n",
    "\n",
    "def main() -> None:\n",
    "    mountain = mountain_sk(m_name=\"Hallasan\", height=1950, location=\"Jeju Island\", hashtags=[\"#Jeju\", \"#Hallasan\"])\n",
    "    mountain_sk.m_name = \"Seoraksan\"\n",
    "    print(mountain)\n",
    "\n",
    "if __name__ == \"__main__\":\n",
    "    main()"
   ]
  },
  {
   "cell_type": "markdown",
   "metadata": {},
   "source": [
    "In Python's `@dataclass` decorator, the `kw_only=True` parameter enforces that all the fields in the class can only be initialized using keyword arguments.<br>\n",
    "This means you cannot pass positional arguments to initialize the data class; you must explicitly name each field."
   ]
  },
  {
   "cell_type": "code",
   "execution_count": 43,
   "metadata": {},
   "outputs": [
    {
     "ename": "TypeError",
     "evalue": "mountain_sk.__init__() takes 1 positional argument but 5 were given",
     "output_type": "error",
     "traceback": [
      "\u001b[31m---------------------------------------------------------------------------\u001b[39m",
      "\u001b[31mTypeError\u001b[39m                                 Traceback (most recent call last)",
      "\u001b[36mCell\u001b[39m\u001b[36m \u001b[39m\u001b[32mIn[43]\u001b[39m\u001b[32m, line 29\u001b[39m\n\u001b[32m     26\u001b[39m     \u001b[38;5;28mprint\u001b[39m(mountain)\n\u001b[32m     28\u001b[39m \u001b[38;5;28;01mif\u001b[39;00m \u001b[34m__name__\u001b[39m == \u001b[33m\"\u001b[39m\u001b[33m__main__\u001b[39m\u001b[33m\"\u001b[39m:\n\u001b[32m---> \u001b[39m\u001b[32m29\u001b[39m     \u001b[43mmain\u001b[49m\u001b[43m(\u001b[49m\u001b[43m)\u001b[49m\n",
      "\u001b[36mCell\u001b[39m\u001b[36m \u001b[39m\u001b[32mIn[43]\u001b[39m\u001b[32m, line 25\u001b[39m, in \u001b[36mmain\u001b[39m\u001b[34m()\u001b[39m\n\u001b[32m     24\u001b[39m \u001b[38;5;28;01mdef\u001b[39;00m\u001b[38;5;250m \u001b[39m\u001b[34mmain\u001b[39m() -> \u001b[38;5;28;01mNone\u001b[39;00m:\n\u001b[32m---> \u001b[39m\u001b[32m25\u001b[39m     mountain = \u001b[43mmountain_sk\u001b[49m\u001b[43m(\u001b[49m\u001b[33;43m\"\u001b[39;49m\u001b[33;43mHallasan\u001b[39;49m\u001b[33;43m\"\u001b[39;49m\u001b[43m,\u001b[49m\u001b[43m \u001b[49m\u001b[32;43m1950\u001b[39;49m\u001b[43m,\u001b[49m\u001b[43m \u001b[49m\u001b[33;43m\"\u001b[39;49m\u001b[33;43mJeju Island\u001b[39;49m\u001b[33;43m\"\u001b[39;49m\u001b[43m,\u001b[49m\u001b[43m \u001b[49m\u001b[43m[\u001b[49m\u001b[33;43m\"\u001b[39;49m\u001b[33;43m#Jeju\u001b[39;49m\u001b[33;43m\"\u001b[39;49m\u001b[43m,\u001b[49m\u001b[43m \u001b[49m\u001b[33;43m\"\u001b[39;49m\u001b[33;43m#Hallasan\u001b[39;49m\u001b[33;43m\"\u001b[39;49m\u001b[43m]\u001b[49m\u001b[43m)\u001b[49m\n\u001b[32m     26\u001b[39m     \u001b[38;5;28mprint\u001b[39m(mountain)\n",
      "\u001b[31mTypeError\u001b[39m: mountain_sk.__init__() takes 1 positional argument but 5 were given"
     ]
    }
   ],
   "source": [
    "import random\n",
    "import string\n",
    "from dataclasses import dataclass, field\n",
    "\n",
    "def generate_id() -> str:\n",
    "    return \"\".join(random.choices(string.ascii_uppercase, k=12))\n",
    "    \n",
    "@dataclass(kw_only=True)  # Making the dataclass keyword-only\n",
    "class mountain_sk:   \n",
    "    m_name: str\n",
    "    height: int\n",
    "    location: str = \"Unknown\"\n",
    "    climbed: bool = False\n",
    "    hashtags: list[str] = field(default_factory=list)\n",
    "    id: str = field(init=False, default_factory=generate_id)\n",
    "    _search: str = field(init=False, repr=False)\n",
    "\n",
    "    def __post_init__(self):\n",
    "        self._search = f\"{self.m_name} {self.height}\"\n",
    "\n",
    "    # def __str__(self):\n",
    "    #     return f\"Mountain Name: {self.m_name}, Height: {self.height}m, Location: {self.location}\"\n",
    "\n",
    "def main() -> None:\n",
    "    mountain = mountain_sk(\"Hallasan\", 1950, \"Jeju Island\", [\"#Jeju\", \"#Hallasan\"])\n",
    "    print(mountain)\n",
    "\n",
    "if __name__ == \"__main__\":\n",
    "    main()"
   ]
  },
  {
   "cell_type": "code",
   "execution_count": 45,
   "metadata": {},
   "outputs": [
    {
     "name": "stdout",
     "output_type": "stream",
     "text": [
      "mountain_sk(m_name='Hallasan', height=1950, location='Jeju Island', climbed=True, hashtags=['#Jeju', '#Hallasan'], id='USQKEEHTTAJT')\n"
     ]
    }
   ],
   "source": [
    "import random\n",
    "import string\n",
    "from dataclasses import dataclass, field\n",
    "\n",
    "def generate_id() -> str:\n",
    "    return \"\".join(random.choices(string.ascii_uppercase, k=12))\n",
    "    \n",
    "@dataclass(kw_only=False)  # Making the dataclass keyword-only\n",
    "class mountain_sk:   \n",
    "    m_name: str\n",
    "    height: int\n",
    "    location: str = \"Unknown\"\n",
    "    climbed: bool = False\n",
    "    hashtags: list[str] = field(default_factory=list)\n",
    "    id: str = field(init=False, default_factory=generate_id)\n",
    "    _search: str = field(init=False, repr=False)\n",
    "\n",
    "    def __post_init__(self):\n",
    "        self._search = f\"{self.m_name} {self.height}\"\n",
    "\n",
    "    # def __str__(self):\n",
    "    #     return f\"Mountain Name: {self.m_name}, Height: {self.height}m, Location: {self.location}\"\n",
    "\n",
    "def main() -> None:\n",
    "    mountain = mountain_sk(\"Hallasan\", 1950, \"Jeju Island\", True, [\"#Jeju\", \"#Hallasan\"])\n",
    "    print(mountain)\n",
    "\n",
    "if __name__ == \"__main__\":\n",
    "    main()"
   ]
  },
  {
   "cell_type": "markdown",
   "metadata": {},
   "source": [
    "If we use `match_args=False`, the fields are not unpacked automatically in pattern matching. The dataclass itself is treated as a single unit, and you would have to reference the field names explicitly."
   ]
  },
  {
   "cell_type": "code",
   "execution_count": 50,
   "metadata": {},
   "outputs": [
    {
     "name": "stdout",
     "output_type": "stream",
     "text": [
      "Matching Mountain (match_args=True):\n",
      "Name: Hallasan, Height: 1950, Location: Jeju Island, Hashtags: ['#Jeju', '#Hallasan']\n",
      "\n",
      "Matching MountainWithoutMatchArgs (match_args=False):\n",
      "No match for MountainWithoutMatchArgs\n",
      "\n",
      "---\n",
      "Matching Mountain (match_args=True):\n",
      "No match for Mountain\n",
      "\n",
      "Matching MountainWithoutMatchArgs (match_args=False):\n",
      "Name: Hallasan, Height: 1950, Location: Jeju Island, Hashtags: ['#Jeju', '#Hallasan']\n"
     ]
    }
   ],
   "source": [
    "from dataclasses import dataclass, field\n",
    "\n",
    "# @dataclass with match_args=True (default)\n",
    "@dataclass(match_args=True)\n",
    "class Mountain:\n",
    "    m_name: str\n",
    "    height: int\n",
    "    location: str = \"Unknown\"\n",
    "    hashtags: list = field(default_factory=list)  \n",
    "\n",
    "# @dataclass with match_args=False\n",
    "@dataclass(match_args=False)\n",
    "class MountainWithoutMatchArgs:\n",
    "    m_name: str\n",
    "    height: int\n",
    "    location: str = \"Unknown\"\n",
    "    hashtags: list = field(default_factory=list)  \n",
    "\n",
    "# Function to match on the pattern\n",
    "def match_mountain(mountain):\n",
    "    print(\"Matching Mountain (match_args=True):\")\n",
    "    match mountain:\n",
    "        case Mountain(m_name, height, location, hashtags):\n",
    "            print(f\"Name: {m_name}, Height: {height}, Location: {location}, Hashtags: {hashtags}\")\n",
    "        case _:\n",
    "            print(\"No match for Mountain\")\n",
    "\n",
    "    print(\"\\nMatching MountainWithoutMatchArgs (match_args=False):\")\n",
    "    match mountain:\n",
    "        case MountainWithoutMatchArgs():\n",
    "            print(f\"Name: {mountain.m_name}, Height: {mountain.height}, Location: {mountain.location}, Hashtags: {mountain.hashtags}\")\n",
    "        case _:\n",
    "            print(\"No match for MountainWithoutMatchArgs\")\n",
    "            \n",
    "\n",
    "# Create instances of the dataclasses\n",
    "mountain = Mountain(\"Hallasan\", 1950, \"Jeju Island\", [\"#Jeju\", \"#Hallasan\"])\n",
    "mountain_without_match_args = MountainWithoutMatchArgs(\"Hallasan\", 1950, \"Jeju Island\", [\"#Jeju\", \"#Hallasan\"])\n",
    "\n",
    "# Test pattern matching on both classes\n",
    "match_mountain(mountain)\n",
    "print(\"\\n---\")\n",
    "match_mountain(mountain_without_match_args)\n"
   ]
  },
  {
   "cell_type": "markdown",
   "metadata": {},
   "source": [
    "We can only get the particular `dict` values as below."
   ]
  },
  {
   "cell_type": "code",
   "execution_count": 58,
   "metadata": {},
   "outputs": [
    {
     "name": "stdout",
     "output_type": "stream",
     "text": [
      "Hallasan\n",
      "mountain_sk(m_name='Hallasan', height=1950, location='Jeju Island', climbed=True, hashtags=['#Jeju', '#Hallasan'], id='ZQMYWZUNXDRL')\n"
     ]
    }
   ],
   "source": [
    "import random\n",
    "import string\n",
    "from dataclasses import dataclass, field\n",
    "\n",
    "def generate_id() -> str:\n",
    "    return \"\".join(random.choices(string.ascii_uppercase, k=12))\n",
    "    \n",
    "@dataclass(kw_only=False)  # Making the dataclass keyword-only\n",
    "class mountain_sk:   \n",
    "    m_name: str\n",
    "    height: int\n",
    "    location: str = \"Unknown\"\n",
    "    climbed: bool = False\n",
    "    hashtags: list[str] = field(default_factory=list)\n",
    "    id: str = field(init=False, default_factory=generate_id)\n",
    "    _search: str = field(init=False, repr=False)\n",
    "\n",
    "    def __post_init__(self):\n",
    "        self._search = f\"{self.m_name} {self.height}\"\n",
    "\n",
    "    # def __str__(self):\n",
    "    #     return f\"Mountain Name: {self.m_name}, Height: {self.height}m, Location: {self.location}\"\n",
    "\n",
    "def main() -> None:\n",
    "    mountain = mountain_sk(\"Hallasan\", 1950, \"Jeju Island\", True, [\"#Jeju\", \"#Hallasan\"])\n",
    "    print(mountain.__dict__[\"m_name\"])\n",
    "    print(mountain)\n",
    "\n",
    "if __name__ == \"__main__\":\n",
    "    main()"
   ]
  },
  {
   "cell_type": "code",
   "execution_count": null,
   "metadata": {},
   "outputs": [],
   "source": []
  }
 ],
 "metadata": {
  "kernelspec": {
   "display_name": ".venv",
   "language": "python",
   "name": "python3"
  },
  "language_info": {
   "codemirror_mode": {
    "name": "ipython",
    "version": 3
   },
   "file_extension": ".py",
   "mimetype": "text/x-python",
   "name": "python",
   "nbconvert_exporter": "python",
   "pygments_lexer": "ipython3",
   "version": "3.11.8"
  }
 },
 "nbformat": 4,
 "nbformat_minor": 2
}
